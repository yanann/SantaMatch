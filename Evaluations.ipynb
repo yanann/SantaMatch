{
 "cells": [
  {
   "cell_type": "code",
   "execution_count": 40,
   "metadata": {
    "collapsed": true
   },
   "outputs": [],
   "source": [
    "import numpy as np # linear algebra\n",
    "import pandas as pd # data processing, CSV file I/O (e.g. pd.read_csv)\n",
    "import math\n",
    "from collections import Counter"
   ]
  },
  {
   "cell_type": "code",
   "execution_count": 50,
   "metadata": {
    "collapsed": true
   },
   "outputs": [],
   "source": [
    "predictions = pd.read_csv(\"predictions.csv\",header=None).values.tolist()\n",
    "gift_pref = pd.read_csv('child_wishlist_v2.csv',header=None).drop(0, 1).values\n",
    "child_pref = pd.read_csv('gift_goodkids_v2.csv',header=None).drop(0, 1).values"
   ]
  },
  {
   "cell_type": "code",
   "execution_count": 51,
   "metadata": {
    "collapsed": true
   },
   "outputs": [],
   "source": [
    "def lcm(a, b):\n",
    "    \"\"\"Compute the lowest common multiple of a and b\"\"\"\n",
    "    # in case of large numbers, using floor division\n",
    "    return a * b // math.gcd(a, b)"
   ]
  },
  {
   "cell_type": "code",
   "execution_count": 59,
   "metadata": {
    "collapsed": true
   },
   "outputs": [],
   "source": [
    "def avg_normalized_happiness_fast(pred, child_pref, gift_pref):\n",
    "    \n",
    "    n_children = 1000000 # n children to give\n",
    "    n_gift_type = 1000 # n types of gifts available\n",
    "    n_gift_quantity = 1000 # each type of gifts are limited to this quantity\n",
    "    n_gift_pref = 100 # number of gifts a child ranks\n",
    "    n_child_pref = 1000 # number of children a gift ranks\n",
    "    twins = math.ceil(0.04 * n_children / 2.) * 2    # 4% of all population, rounded to the closest number\n",
    "    triplets = math.ceil(0.005 * n_children / 3.) * 3    # 0.5% of all population, rounded to the closest \n",
    "    ratio_gift_happiness = 2\n",
    "    ratio_child_happiness = 2\n",
    "\n",
    "    # check if number of each gift exceeds n_gift_quantity\n",
    "    tmp_dict = np.zeros(n_gift_quantity, dtype=np.uint16)\n",
    "    for i in np.arange(len(pred)):\n",
    "        tmp_dict[pred[i][1]] += 1\n",
    "    for count in np.arange(n_gift_quantity):\n",
    "        assert count <= n_gift_quantity    \n",
    "                \n",
    "    # check if triplets have the same gift\n",
    "    for t1 in np.arange(0,triplets,3):\n",
    "        triplet1 = pred[t1]\n",
    "        triplet2 = pred[t1+1]\n",
    "        triplet3 = pred[t1+2]\n",
    "        assert triplet1[1] == triplet2[1] and triplet2[1] == triplet3[1]\n",
    "    print('pass1')    \n",
    "    # check if twins have the same gift\n",
    "    for t1 in np.arange(triplets,triplets+twins,2):\n",
    "        twin1 = pred[t1]\n",
    "        twin2 = pred[t1+1]\n",
    "        assert twin1[1] == twin2[1]\n",
    "    print('pass2')\n",
    "    max_child_happiness = n_gift_pref * ratio_child_happiness\n",
    "    max_gift_happiness = n_child_pref * ratio_gift_happiness\n",
    "    total_child_happiness = 0\n",
    "    total_gift_happiness = np.zeros(n_gift_type)\n",
    "    \n",
    "    for row in pred:\n",
    "        child_id = row[0]\n",
    "        gift_id = row[1]\n",
    "        \n",
    "        # check if child_id and gift_id exist\n",
    "        assert child_id < n_children\n",
    "        assert gift_id < n_gift_type\n",
    "        assert child_id >= 0 \n",
    "        assert gift_id >= 0\n",
    "        child_happiness = (n_gift_pref - np.where(gift_pref[child_id]==gift_id)[0]) * ratio_child_happiness\n",
    "        if not child_happiness:\n",
    "            child_happiness = -1\n",
    "\n",
    "        gift_happiness = ( n_child_pref - np.where(child_pref[gift_id]==child_id)[0]) * ratio_gift_happiness\n",
    "        if not gift_happiness:\n",
    "            gift_happiness = -1\n",
    "\n",
    "        total_child_happiness += child_happiness\n",
    "        total_gift_happiness[gift_id] += gift_happiness\n",
    "    \n",
    "    print('normalized child happiness=',float(total_child_happiness)/(float(n_children)*float(max_child_happiness)) , \\\n",
    "        ', normalized gift happiness',np.mean(total_gift_happiness) / float(max_gift_happiness*n_gift_quantity))\n",
    "\n",
    "    # to avoid float rounding error\n",
    "    # find common denominator\n",
    "    # NOTE: I used this code to experiment different parameters, so it was necessary to get the multiplier\n",
    "    # Note: You should hard-code the multipler to speed up, now that the parameters are finalized\n",
    "    denominator1 = n_children*max_child_happiness\n",
    "    denominator2 = n_gift_quantity*max_gift_happiness*n_gift_type\n",
    "    common_denom = lcm(denominator1, denominator2)\n",
    "    multiplier = common_denom / denominator1\n",
    "    print(multiplier)\n",
    "    print(common_denom)\n",
    "    print(total_child_happiness)\n",
    "    print(np.sum(total_gift_happiness))\n",
    "\n",
    "    # # usually denom1 > demon2\n",
    "    return float(math.pow(total_child_happiness*multiplier,3) + math.pow(np.sum(total_gift_happiness),3)) / float(math.pow(common_denom,3))\n",
    "    # return math.pow(float(total_child_happiness)/(float(n_children)*float(max_child_happiness)),2) + math.pow(np.mean(total_gift_happiness) / float(max_gift_happiness*n_gift_quantity),2)"
   ]
  },
  {
   "cell_type": "code",
   "execution_count": 60,
   "metadata": {},
   "outputs": [
    {
     "name": "stdout",
     "output_type": "stream",
     "text": [
      "pass1\n",
      "pass2\n",
      "normalized child happiness= 0.929522515 , normalized gift happiness 2.0322e-05\n",
      "10.0\n",
      "2000000000\n",
      "[185904503]\n",
      "40644.0\n",
      "0.803118705659117\n"
     ]
    }
   ],
   "source": [
    "print(avg_normalized_happiness_fast(predictions, child_pref, gift_pref))"
   ]
  }
 ],
 "metadata": {
  "hide_input": false,
  "kernelspec": {
   "display_name": "Python 3",
   "language": "python",
   "name": "python3"
  },
  "language_info": {
   "codemirror_mode": {
    "name": "ipython",
    "version": 3
   },
   "file_extension": ".py",
   "mimetype": "text/x-python",
   "name": "python",
   "nbconvert_exporter": "python",
   "pygments_lexer": "ipython3",
   "version": "3.6.3"
  }
 },
 "nbformat": 4,
 "nbformat_minor": 2
}
