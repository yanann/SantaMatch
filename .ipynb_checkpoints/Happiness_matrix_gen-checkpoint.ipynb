{
 "cells": [
  {
   "cell_type": "code",
   "execution_count": 1,
   "metadata": {
    "_cell_guid": "7674080f-a0e5-4245-9000-679d9d8f9770",
    "_uuid": "f1c55a4035b498d4c20a5e2acd795c5467677729",
    "collapsed": true
   },
   "outputs": [],
   "source": [
    "# This Python 3 environment comes with many helpful analytics libraries installed\n",
    "# It is defined by the kaggle/python docker image: https://github.com/kaggle/docker-python\n",
    "# For example, here's several helpful packages to load in \n",
    "\n",
    "import numpy as np # linear algebra\n",
    "import pandas as pd\n",
    "from sklearn.utils.linear_assignment_ import linear_assignment\n",
    "import math\n",
    "from numba import jit\n",
    "\n",
    "# Any results you write to the current directory are saved as output."
   ]
  },
  {
   "cell_type": "code",
   "execution_count": 3,
   "metadata": {
    "_uuid": "c1952a1f57aef3ea67b62b139e1b2db8c46c2ca3",
    "collapsed": true
   },
   "outputs": [],
   "source": [
    "#import datasets\n",
    "wishList = pd.read_csv(\"child_wishlist_v2.csv\",header=None).drop(0, 1).values\n",
    "santaList = pd.read_csv(\"gift_goodkids_v2.csv\",header=None).drop(0, 1).values\n",
    "\n",
    "#constants for calc from average normalized happiness kernel\n",
    "n_children = 1000000 # n children to give\n",
    "n_gift_type = 1000 # n types of gifts available\n",
    "ratio_gift_happiness = 2\n",
    "ratio_child_happiness = 2\n",
    "n_gift_pref = 100 # number of gifts a child ranks\n",
    "n_child_pref = 1000 # number of children a gift ranks\n",
    "twinMax = 45000 #maxID for twin\n",
    "tripletMax = 5000 #maxID for triplet"
   ]
  },
  {
   "cell_type": "code",
   "execution_count": 4,
   "metadata": {
    "_uuid": "cd9cbf9ff6af21d2d2b6ee4f0ac40ead26011fa8"
   },
   "outputs": [
    {
     "name": "stdout",
     "output_type": "stream",
     "text": [
      "(1000000, 100)\n",
      "(1000, 1000)\n"
     ]
    }
   ],
   "source": [
    "#examine dataset\n",
    "print(wishList.shape)\n",
    "print(santaList.shape)\n"
   ]
  },
  {
   "cell_type": "code",
   "execution_count": 5,
   "metadata": {
    "collapsed": true,
    "scrolled": false
   },
   "outputs": [],
   "source": [
    "#record matching twin and triplets\n",
    "tri_twinID = np.zeros((n_children,1), dtype=np.int64)\n",
    "tri_twinID[0 : twinMax] = 1\n",
    "\n",
    "wishList = np.append(wishList, tri_twinID, axis = 1)\n"
   ]
  },
  {
   "cell_type": "code",
   "execution_count": 6,
   "metadata": {},
   "outputs": [
    {
     "name": "stdout",
     "output_type": "stream",
     "text": [
      "(567377,)\n"
     ]
    }
   ],
   "source": [
    "#add tag for goodKids\n",
    "goodKids = np.unique(santaList)\n",
    "print(goodKids.shape)\n",
    "\n",
    "goodKid_tag = np.zeros((n_children,1), dtype=np.int64)\n",
    "wishList_v2 = np.append(wishList, goodKid_tag, axis = 1)\n",
    "wishList_v2[goodKids,n_gift_pref+1] = 1\n"
   ]
  },
  {
   "cell_type": "code",
   "execution_count": 7,
   "metadata": {},
   "outputs": [
    {
     "name": "stdout",
     "output_type": "stream",
     "text": [
      "(586833, 102)\n"
     ]
    }
   ],
   "source": [
    "#trim list to just the good kids and then twins and triplets\n",
    "mask = np.logical_or(wishList_v2[:,n_gift_pref]==1, wishList_v2[:,n_gift_pref+1]==1)\n",
    "wishList_trim = wishList_v2[mask]\n",
    "\n",
    "#verify trim wroked\n",
    "print(wishList_trim.shape)"
   ]
  },
  {
   "cell_type": "code",
   "execution_count": 8,
   "metadata": {
    "_uuid": "1915cdd563b71cabd3bd5691e166f6c01e73fc25",
    "collapsed": true
   },
   "outputs": [],
   "source": [
    "#calculation for individual happiness score\n",
    "def happyCalc(matrix, childID, giftID):\n",
    "    #calc child happiness\n",
    "    child_happiness = np.where(matrix[childID]==giftID)[0]\n",
    "    if (len(child_happiness) == 0):\n",
    "        tmp_child_happiness = -1\n",
    "    else:\n",
    "        tmp_child_happiness = child_happiness[0]\n",
    "            \n",
    "    #calc gift happiness\n",
    "    gift_happiness = np.where(matrix[giftID]==childID)[0]\n",
    "    if (len(gift_happiness) == 0):\n",
    "        tmp_gift_happiness = -1\n",
    "    else:\n",
    "        tmp_gift_happiness = gift_happiness[0]\n",
    "        \n",
    "    return float(1 - tmp_child_happiness/n_gift_pref  + 1 - tmp_gift_happiness/n_child_pref)"
   ]
  },
  {
   "cell_type": "code",
   "execution_count": 11,
   "metadata": {
    "_uuid": "edf604ae33d67c4a32ffe3f43ec532e3aae1e46d"
   },
   "outputs": [
    {
     "name": "stdout",
     "output_type": "stream",
     "text": [
      "0\n",
      "10000\n",
      "20000\n",
      "30000\n",
      "40000\n",
      "50000\n",
      "60000\n",
      "70000\n",
      "80000\n",
      "90000\n",
      "100000\n",
      "110000\n",
      "120000\n",
      "130000\n",
      "140000\n",
      "150000\n"
     ]
    },
    {
     "ename": "KeyboardInterrupt",
     "evalue": "",
     "output_type": "error",
     "traceback": [
      "\u001b[0;31m---------------------------------------------------------------------------\u001b[0m",
      "\u001b[0;31mKeyboardInterrupt\u001b[0m                         Traceback (most recent call last)",
      "\u001b[0;32m<ipython-input-11-7b33d1fa9824>\u001b[0m in \u001b[0;36m<module>\u001b[0;34m()\u001b[0m\n\u001b[1;32m     10\u001b[0m     \u001b[0;32mreturn\u001b[0m \u001b[0mcostM\u001b[0m\u001b[0;34m\u001b[0m\u001b[0m\n\u001b[1;32m     11\u001b[0m \u001b[0;34m\u001b[0m\u001b[0m\n\u001b[0;32m---> 12\u001b[0;31m \u001b[0mhappiness_M\u001b[0m \u001b[0;34m=\u001b[0m \u001b[0mhappiness_matrix\u001b[0m\u001b[0;34m(\u001b[0m\u001b[0mwishList_trim\u001b[0m\u001b[0;34m,\u001b[0m \u001b[0;36m0\u001b[0m\u001b[0;34m,\u001b[0m \u001b[0mint\u001b[0m\u001b[0;34m(\u001b[0m\u001b[0mn_children\u001b[0m\u001b[0;34m/\u001b[0m\u001b[0;36m2\u001b[0m\u001b[0;34m)\u001b[0m\u001b[0;34m,\u001b[0m \u001b[0mn_gift_type\u001b[0m\u001b[0;34m)\u001b[0m\u001b[0;34m\u001b[0m\u001b[0m\n\u001b[0m",
      "\u001b[0;32m<ipython-input-11-7b33d1fa9824>\u001b[0m in \u001b[0;36mhappiness_matrix\u001b[0;34m(matrix, x1, x2, y)\u001b[0m\n\u001b[1;32m      5\u001b[0m     \u001b[0;32mfor\u001b[0m \u001b[0mi\u001b[0m \u001b[0;32min\u001b[0m \u001b[0mrange\u001b[0m\u001b[0;34m(\u001b[0m\u001b[0mx1\u001b[0m\u001b[0;34m,\u001b[0m \u001b[0mx2\u001b[0m\u001b[0;34m)\u001b[0m\u001b[0;34m:\u001b[0m\u001b[0;34m\u001b[0m\u001b[0m\n\u001b[1;32m      6\u001b[0m         \u001b[0;32mfor\u001b[0m \u001b[0mj\u001b[0m \u001b[0;32min\u001b[0m \u001b[0mrange\u001b[0m\u001b[0;34m(\u001b[0m\u001b[0;36m0\u001b[0m\u001b[0;34m,\u001b[0m \u001b[0my\u001b[0m\u001b[0;34m)\u001b[0m\u001b[0;34m:\u001b[0m\u001b[0;34m\u001b[0m\u001b[0m\n\u001b[0;32m----> 7\u001b[0;31m             \u001b[0mcost\u001b[0m \u001b[0;34m=\u001b[0m \u001b[0mhappyCalc\u001b[0m\u001b[0;34m(\u001b[0m\u001b[0mmatrix\u001b[0m\u001b[0;34m,\u001b[0m \u001b[0mi\u001b[0m\u001b[0;34m,\u001b[0m\u001b[0mj\u001b[0m\u001b[0;34m)\u001b[0m\u001b[0;34m\u001b[0m\u001b[0m\n\u001b[0m\u001b[1;32m      8\u001b[0m             \u001b[0mcostM\u001b[0m\u001b[0;34m[\u001b[0m\u001b[0mi\u001b[0m\u001b[0;34m,\u001b[0m\u001b[0mj\u001b[0m\u001b[0;34m]\u001b[0m \u001b[0;34m=\u001b[0m \u001b[0mcost\u001b[0m\u001b[0;34m\u001b[0m\u001b[0m\n\u001b[1;32m      9\u001b[0m         \u001b[0;32mif\u001b[0m \u001b[0mi\u001b[0m\u001b[0;34m%\u001b[0m\u001b[0;36m10000\u001b[0m \u001b[0;34m==\u001b[0m \u001b[0;36m0\u001b[0m\u001b[0;34m:\u001b[0m \u001b[0mprint\u001b[0m\u001b[0;34m(\u001b[0m\u001b[0mi\u001b[0m\u001b[0;34m)\u001b[0m\u001b[0;34m\u001b[0m\u001b[0m\n",
      "\u001b[0;32m<ipython-input-8-44e3bf0305c5>\u001b[0m in \u001b[0;36mhappyCalc\u001b[0;34m(matrix, childID, giftID)\u001b[0m\n\u001b[1;32m      2\u001b[0m \u001b[0;32mdef\u001b[0m \u001b[0mhappyCalc\u001b[0m\u001b[0;34m(\u001b[0m\u001b[0mmatrix\u001b[0m\u001b[0;34m,\u001b[0m \u001b[0mchildID\u001b[0m\u001b[0;34m,\u001b[0m \u001b[0mgiftID\u001b[0m\u001b[0;34m)\u001b[0m\u001b[0;34m:\u001b[0m\u001b[0;34m\u001b[0m\u001b[0m\n\u001b[1;32m      3\u001b[0m     \u001b[0;31m#calc child happiness\u001b[0m\u001b[0;34m\u001b[0m\u001b[0;34m\u001b[0m\u001b[0m\n\u001b[0;32m----> 4\u001b[0;31m     \u001b[0mchild_happiness\u001b[0m \u001b[0;34m=\u001b[0m \u001b[0mnp\u001b[0m\u001b[0;34m.\u001b[0m\u001b[0mwhere\u001b[0m\u001b[0;34m(\u001b[0m\u001b[0mmatrix\u001b[0m\u001b[0;34m[\u001b[0m\u001b[0mchildID\u001b[0m\u001b[0;34m]\u001b[0m\u001b[0;34m==\u001b[0m\u001b[0mgiftID\u001b[0m\u001b[0;34m)\u001b[0m\u001b[0;34m[\u001b[0m\u001b[0;36m0\u001b[0m\u001b[0;34m]\u001b[0m\u001b[0;34m\u001b[0m\u001b[0m\n\u001b[0m\u001b[1;32m      5\u001b[0m     \u001b[0;32mif\u001b[0m \u001b[0;34m(\u001b[0m\u001b[0mlen\u001b[0m\u001b[0;34m(\u001b[0m\u001b[0mchild_happiness\u001b[0m\u001b[0;34m)\u001b[0m \u001b[0;34m==\u001b[0m \u001b[0;36m0\u001b[0m\u001b[0;34m)\u001b[0m\u001b[0;34m:\u001b[0m\u001b[0;34m\u001b[0m\u001b[0m\n\u001b[1;32m      6\u001b[0m         \u001b[0mtmp_child_happiness\u001b[0m \u001b[0;34m=\u001b[0m \u001b[0;34m-\u001b[0m\u001b[0;36m1\u001b[0m\u001b[0;34m\u001b[0m\u001b[0m\n",
      "\u001b[0;31mKeyboardInterrupt\u001b[0m: "
     ]
    }
   ],
   "source": [
    "#calculate happiness for each gift\n",
    "def happiness_matrix(matrix, x1, x2, y):\n",
    "    costM = np.zeros(((x2-x1),y))\n",
    "    #calc average happiness\n",
    "    for i in range(x1, x2):\n",
    "        for j in range(0, y):\n",
    "            cost = happyCalc(matrix, i,j)\n",
    "            costM[i,j] = cost\n",
    "        if i%10000 == 0: print(i)\n",
    "    return costM   \n",
    "\n",
    "happiness_M = happiness_matrix(wishList_trim, 0, n_children, n_gift_type)"
   ]
  },
  {
   "cell_type": "code",
   "execution_count": null,
   "metadata": {
    "collapsed": true
   },
   "outputs": [],
   "source": [
    "#write to csv\n",
    "np.savetxt(\"happinessMatrix.txt\", happiness_M , delimiter=\",\")"
   ]
  }
 ],
 "metadata": {
  "hide_input": false,
  "kernelspec": {
   "display_name": "Python 3",
   "language": "python",
   "name": "python3"
  },
  "language_info": {
   "codemirror_mode": {
    "name": "ipython",
    "version": 3
   },
   "file_extension": ".py",
   "mimetype": "text/x-python",
   "name": "python",
   "nbconvert_exporter": "python",
   "pygments_lexer": "ipython3",
   "version": "3.6.3"
  }
 },
 "nbformat": 4,
 "nbformat_minor": 1
}
